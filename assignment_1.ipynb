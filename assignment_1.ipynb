{
  "cells": [
    {
      "cell_type": "markdown",
      "metadata": {
        "id": "view-in-github",
        "colab_type": "text"
      },
      "source": [
        "<a href=\"https://colab.research.google.com/github/itzrnvr/deeplearning-lab/blob/main/assignment_1.ipynb\" target=\"_parent\"><img src=\"https://colab.research.google.com/assets/colab-badge.svg\" alt=\"Open In Colab\"/></a>"
      ]
    },
    {
      "cell_type": "markdown",
      "metadata": {
        "id": "8YxWZbUv0QTf"
      },
      "source": [
        "# Deep Learning Assignment 1\n",
        "\n",
        "This notebook fetches the MNIST dataset directly using `sklearn.datasets.fetch_openml`. Therefore, no manual file uploads to Google Colab are required for the dataset itself. If other external files were needed, code to upload or mount Google Drive would typically be placed here."
      ],
      "id": "8YxWZbUv0QTf"
    },
    {
      "cell_type": "code",
      "metadata": {
        "id": "2R79Lpr80QTg"
      },
      "source": [
        "# Imports (General)\n",
        "import numpy as np\n",
        "import matplotlib.pyplot as plt\n",
        "from sklearn.datasets import fetch_openml\n",
        "from sklearn.model_selection import train_test_split\n",
        "from sklearn.preprocessing import StandardScaler, MinMaxScaler\n",
        "from sklearn.neural_network import MLPClassifier\n",
        "from sklearn.metrics import accuracy_score, precision_recall_fscore_support, confusion_matrix, classification_report\n",
        "import tensorflow as tf\n",
        "from tensorflow.keras.models import Sequential\n",
        "from tensorflow.keras.layers import Dense\n",
        "from tensorflow.keras.utils import to_categorical\n",
        "import time\n",
        "\n",
        "# For reproducibility\n",
        "np.random.seed(42)\n",
        "tf.random.set_seed(42)"
      ],
      "execution_count": 1,
      "outputs": [],
      "id": "2R79Lpr80QTg"
    },
    {
      "cell_type": "markdown",
      "metadata": {
        "id": "UJui7RHx0QTi"
      },
      "source": [
        "# Part 1: Feed Forward Network (FFN) using Scikit-learn"
      ],
      "id": "UJui7RHx0QTi"
    },
    {
      "cell_type": "markdown",
      "metadata": {
        "id": "4204B9HS0QTj"
      },
      "source": [
        "## Q1. Download the dataset"
      ],
      "id": "4204B9HS0QTj"
    },
    {
      "cell_type": "code",
      "metadata": {
        "colab": {
          "base_uri": "https://localhost:8080/"
        },
        "id": "C0_ntNIT0QTj",
        "outputId": "e8db6628-f444-4622-c841-078ae72450fe"
      },
      "source": [
        "# Q1. Download the dataset\n",
        "mnist = fetch_openml(\"mnist_784\", version=1, as_frame=False, parser='auto')\n",
        "X = mnist.data\n",
        "y = mnist.target.astype(np.uint8)\n",
        "print(\"MNIST dataset downloaded.\")"
      ],
      "execution_count": 2,
      "outputs": [
        {
          "output_type": "stream",
          "name": "stdout",
          "text": [
            "MNIST dataset downloaded.\n"
          ]
        }
      ],
      "id": "C0_ntNIT0QTj"
    },
    {
      "cell_type": "markdown",
      "metadata": {
        "id": "n2wtwClt0QTk"
      },
      "source": [
        "## Q2. Print shape of input and target data"
      ],
      "id": "n2wtwClt0QTk"
    },
    {
      "cell_type": "code",
      "metadata": {
        "colab": {
          "base_uri": "https://localhost:8080/"
        },
        "id": "puJvxkZi0QTl",
        "outputId": "0ed5738d-48a0-406d-b932-8a8c87bb558b"
      },
      "source": [
        "# Q2. Print shape of input and target data\n",
        "print(\"Shape of X:\", X.shape)  # Expected: (70000, 784)\n",
        "print(\"Shape of y:\", y.shape)  # Expected: (70000,)"
      ],
      "execution_count": 3,
      "outputs": [
        {
          "output_type": "stream",
          "name": "stdout",
          "text": [
            "Shape of X: (70000, 784)\n",
            "Shape of y: (70000,)\n"
          ]
        }
      ],
      "id": "puJvxkZi0QTl"
    },
    {
      "cell_type": "markdown",
      "metadata": {
        "id": "S4UQKhHb0QTm"
      },
      "source": [
        "## Q3. Display the top ten images"
      ],
      "id": "S4UQKhHb0QTm"
    },
    {
      "cell_type": "code",
      "metadata": {
        "colab": {
          "base_uri": "https://localhost:8080/",
          "height": 183
        },
        "id": "UWKSRfpj0QTm",
        "outputId": "e6c3af98-5d0c-4085-bd72-7cd566b750bd"
      },
      "source": [
        "# Q3. Display the top ten images\n",
        "plt.figure(figsize=(15, 2))\n",
        "for i in range(10):\n",
        "    plt.subplot(1, 10, i+1)\n",
        "    plt.imshow(X[i].reshape(28, 28), cmap='gray')\n",
        "    plt.title(str(y[i]))\n",
        "    plt.axis('off')\n",
        "plt.suptitle('First 10 images from MNIST')\n",
        "plt.show()"
      ],
      "execution_count": 4,
      "outputs": [
        {
          "output_type": "display_data",
          "data": {
            "text/plain": [
              "<Figure size 1500x200 with 10 Axes>"
            ],
            "image/png": "[encoded data removed]"
          },
          "metadata": {}
        }
      ],
      "id": "UWKSRfpj0QTm"
    },
    {
      "cell_type": "markdown",
      "metadata": {
        "id": "yYN-4E9e0QTn"
      },
      "source": [
        "## Q4. Transform: Scale Data"
      ],
      "id": "yYN-4E9e0QTn"
    },
    {
      "cell_type": "code",
      "metadata": {
        "colab": {
          "base_uri": "https://localhost:8080/"
        },
        "id": "BnCEkTju0QTn",
        "outputId": "aa2686df-fe0e-4ad8-9fbd-113d1f5fd176"
      },
      "source": [
        "# Q4. Transform: Scale Data\n",
        "X_scaled = X / 255.0\n",
        "print(\"Data scaled to [0, 1] range.\")"
      ],
      "execution_count": 5,
      "outputs": [
        {
          "output_type": "stream",
          "name": "stdout",
          "text": [
            "Data scaled to [0, 1] range.\n"
          ]
        }
      ],
      "id": "BnCEkTju0QTn"
    },
    {
      "cell_type": "markdown",
      "metadata": {
        "id": "JpppBTMG0QTo"
      },
      "source": [
        "**Note: Q5 is not present in the assignment PDF.**"
      ],
      "id": "JpppBTMG0QTo"
    },
    {
      "cell_type": "markdown",
      "metadata": {
        "id": "xm0EicyS0QTo"
      },
      "source": [
        "## Q6. Split the dataset (80% train, 20% test)"
      ],
      "id": "xm0EicyS0QTo"
    },
    {
      "cell_type": "code",
      "metadata": {
        "colab": {
          "base_uri": "https://localhost:8080/"
        },
        "id": "zlEzCt6S0QTo",
        "outputId": "350c0176-5ac2-49e4-9e5d-892905b33adc"
      },
      "source": [
        "# Q6. Split the dataset (80% train, 20% test)\n",
        "X_train, X_test, y_train, y_test = train_test_split(\n",
        "    X_scaled, y, test_size=0.2, random_state=42\n",
        ")\n",
        "print(f\"Train set: {X_train.shape[0]} samples, Test set: {X_test.shape[0]} samples\")"
      ],
      "execution_count": 6,
      "outputs": [
        {
          "output_type": "stream",
          "name": "stdout",
          "text": [
            "Train set: 56000 samples, Test set: 14000 samples\n"
          ]
        }
      ],
      "id": "zlEzCt6S0QTo"
    },
    {
      "cell_type": "markdown",
      "metadata": {
        "id": "p0ue6VSf0QTo"
      },
      "source": [
        "## Q7. Train FFN"
      ],
      "id": "p0ue6VSf0QTo"
    },
    {
      "cell_type": "code",
      "metadata": {
        "colab": {
          "base_uri": "https://localhost:8080/"
        },
        "id": "fDHP2AR60QTo",
        "outputId": "3793637f-6a9c-42c9-f701-d94d264a3c2b"
      },
      "source": [
        "# Q7. Train FFN\n",
        "mlp = MLPClassifier(hidden_layer_sizes=(64,), max_iter=10, random_state=42, early_stopping=False, solver='adam', activation='relu')\n",
        "mlp.fit(X_train, y_train)\n",
        "print(\"FFN training complete.\")"
      ],
      "execution_count": 7,
      "outputs": [
        {
          "output_type": "stream",
          "name": "stdout",
          "text": [
            "FFN training complete.\n"
          ]
        },
        {
          "output_type": "stream",
          "name": "stderr",
          "text": [
            "/usr/local/lib/python3.11/dist-packages/sklearn/neural_network/_multilayer_perceptron.py:691: ConvergenceWarning: Stochastic Optimizer: Maximum iterations (10) reached and the optimization hasn't converged yet.\n",
            "  warnings.warn(\n"
          ]
        }
      ],
      "id": "fDHP2AR60QTo"
    },
    {
      "cell_type": "markdown",
      "metadata": {
        "id": "lMLO_-QT0QTp"
      },
      "source": [
        "## Q8. Predict on test set and evaluate"
      ],
      "id": "lMLO_-QT0QTp"
    },
    {
      "cell_type": "code",
      "metadata": {
        "colab": {
          "base_uri": "https://localhost:8080/"
        },
        "id": "iU_sRF1e0QTp",
        "outputId": "7f0f3dee-0cd2-455e-8f2c-c1d81ffc29e6"
      },
      "source": [
        "# Q8. Predict on test set and evaluate\n",
        "y_pred = mlp.predict(X_test)\n",
        "acc = accuracy_score(y_test, y_pred)\n",
        "prec, rec, f1, _ = precision_recall_fscore_support(y_test, y_pred, average='weighted')\n",
        "print(f\"Test Accuracy: {acc:.4f}\")\n",
        "print(f\"Precision: {prec:.4f}, Recall: {rec:.4f}, F1-score: {f1:.4f}\")\n",
        "print(\"\\nClassification Report:\\n\", classification_report(y_test, y_pred))"
      ],
      "execution_count": 8,
      "outputs": [
        {
          "output_type": "stream",
          "name": "stdout",
          "text": [
            "Test Accuracy: 0.9687\n",
            "Precision: 0.9688, Recall: 0.9687, F1-score: 0.9687\n",
            "\n",
            "Classification Report:\n",
            "               precision    recall  f1-score   support\n",
            "\n",
            "           0       0.99      0.98      0.98      1343\n",
            "           1       0.98      0.99      0.98      1600\n",
            "           2       0.97      0.97      0.97      1380\n",
            "           3       0.96      0.96      0.96      1433\n",
            "           4       0.97      0.96      0.97      1295\n",
            "           5       0.97      0.97      0.97      1273\n",
            "           6       0.98      0.98      0.98      1396\n",
            "           7       0.98      0.97      0.97      1503\n",
            "           8       0.95      0.95      0.95      1357\n",
            "           9       0.95      0.96      0.96      1420\n",
            "\n",
            "    accuracy                           0.97     14000\n",
            "   macro avg       0.97      0.97      0.97     14000\n",
            "weighted avg       0.97      0.97      0.97     14000\n",
            "\n"
          ]
        }
      ],
      "id": "iU_sRF1e0QTp"
    },
    {
      "cell_type": "markdown",
      "metadata": {
        "id": "xgVghZS-0QTp"
      },
      "source": [
        "## Q9. Compare and analyse test accuracy for different train-test splits"
      ],
      "id": "xgVghZS-0QTp"
    },
    {
      "cell_type": "code",
      "metadata": {
        "colab": {
          "base_uri": "https://localhost:8080/",
          "height": 644
        },
        "id": "ZGLgjd2f0QTp",
        "outputId": "ec4a64a3-abf6-4434-8970-326335ce2f70"
      },
      "source": [
        "# Q9. Compare and analyse test accuracy for different train-test splits\n",
        "test_sizes = [0.4, 0.25, 0.20, 0.10]\n",
        "accuracies = []\n",
        "train_percentages = []\n",
        "for test_size in test_sizes:\n",
        "    X_tr, X_te, y_tr, y_te = train_test_split(X_scaled, y, test_size=test_size, random_state=42)\n",
        "    clf = MLPClassifier(hidden_layer_sizes=(64,), max_iter=10, random_state=42, early_stopping=False, solver='adam', activation='relu')\n",
        "    clf.fit(X_tr, y_tr)\n",
        "    y_pred = clf.predict(X_te)\n",
        "    acc = accuracy_score(y_te, y_pred)\n",
        "    train_percent = int((1 - test_size) * 100)\n",
        "    train_percentages.append(train_percent)\n",
        "    accuracies.append(acc)\n",
        "    print(f\"Train size: {train_percent}%, Test Accuracy: {acc:.4f}\")\n",
        "\n",
        "# Plot\n",
        "plt.figure(figsize=(6,4))\n",
        "plt.plot(train_percentages, accuracies, marker='o')\n",
        "plt.xlabel('Training Set Percentage')\n",
        "plt.ylabel('Test Accuracy')\n",
        "plt.title('Test Accuracy vs. Training Set Percentage')\n",
        "plt.grid(True)\n",
        "plt.show()"
      ],
      "execution_count": 9,
      "outputs": [
        {
          "output_type": "stream",
          "name": "stderr",
          "text": [
            "/usr/local/lib/python3.11/dist-packages/sklearn/neural_network/_multilayer_perceptron.py:691: ConvergenceWarning: Stochastic Optimizer: Maximum iterations (10) reached and the optimization hasn't converged yet.\n",
            "  warnings.warn(\n"
          ]
        },
        {
          "output_type": "stream",
          "name": "stdout",
          "text": [
            "Train size: 60%, Test Accuracy: 0.9658\n"
          ]
        },
        {
          "output_type": "stream",
          "name": "stderr",
          "text": [
            "/usr/local/lib/python3.11/dist-packages/sklearn/neural_network/_multilayer_perceptron.py:691: ConvergenceWarning: Stochastic Optimizer: Maximum iterations (10) reached and the optimization hasn't converged yet.\n",
            "  warnings.warn(\n"
          ]
        },
        {
          "output_type": "stream",
          "name": "stdout",
          "text": [
            "Train size: 75%, Test Accuracy: 0.9682\n"
          ]
        },
        {
          "output_type": "stream",
          "name": "stderr",
          "text": [
            "/usr/local/lib/python3.11/dist-packages/sklearn/neural_network/_multilayer_perceptron.py:691: ConvergenceWarning: Stochastic Optimizer: Maximum iterations (10) reached and the optimization hasn't converged yet.\n",
            "  warnings.warn(\n"
          ]
        },
        {
          "output_type": "stream",
          "name": "stdout",
          "text": [
            "Train size: 80%, Test Accuracy: 0.9687\n",
            "Train size: 90%, Test Accuracy: 0.9656\n"
          ]
        },
        {
          "output_type": "stream",
          "name": "stderr",
          "text": [
            "/usr/local/lib/python3.11/dist-packages/sklearn/neural_network/_multilayer_perceptron.py:691: ConvergenceWarning: Stochastic Optimizer: Maximum iterations (10) reached and the optimization hasn't converged yet.\n",
            "  warnings.warn(\n"
          ]
        },
        {
          "output_type": "display_data",
          "data": {
            "text/plain": [
              "<Figure size 600x400 with 1 Axes>"
            ],
            "image/png": "[encoded data removed]"
          },
          "metadata": {}
        }
      ],
      "id": "ZGLgjd2f0QTp"
    },
    {
      "cell_type": "markdown",
      "metadata": {
        "id": "KYq1arm30QTp"
      },
      "source": [
        "## Q10. Playing with the model: Vary number of iterations"
      ],
      "id": "KYq1arm30QTp"
    },
    {
      "cell_type": "code",
      "metadata": {
        "colab": {
          "base_uri": "https://localhost:8080/",
          "height": 644
        },
        "id": "36_034k00QTp",
        "outputId": "ae294e29-3d9a-48a9-c2f4-8bb510b53036"
      },
      "source": [
        "# Q10. Playing with the model: Vary number of iterations\n",
        "iterations = [10, 20, 50, 100, 150, 200]\n",
        "accs = []\n",
        "for max_iter_value in iterations:\n",
        "    clf = MLPClassifier(hidden_layer_sizes=(64,), max_iter=max_iter_value, random_state=42, early_stopping=False, solver='adam', activation='relu')\n",
        "    clf.fit(X_train, y_train)\n",
        "    y_pred = clf.predict(X_test)\n",
        "    acc = accuracy_score(y_test, y_pred)\n",
        "    accs.append(acc)\n",
        "    print(f\"max_iter={max_iter_value}: Test Accuracy = {acc:.4f}\")\n",
        "\n",
        "# Plot\n",
        "plt.figure(figsize=(6,4))\n",
        "plt.plot(iterations, accs, marker='o')\n",
        "plt.xlabel('Number of Iterations (max_iter)')\n",
        "plt.ylabel('Test Accuracy')\n",
        "plt.title('Test Accuracy vs. Number of Iterations')\n",
        "plt.grid(True)\n",
        "plt.show()"
      ],
      "execution_count": 10,
      "outputs": [
        {
          "output_type": "stream",
          "name": "stderr",
          "text": [
            "/usr/local/lib/python3.11/dist-packages/sklearn/neural_network/_multilayer_perceptron.py:691: ConvergenceWarning: Stochastic Optimizer: Maximum iterations (10) reached and the optimization hasn't converged yet.\n",
            "  warnings.warn(\n"
          ]
        },
        {
          "output_type": "stream",
          "name": "stdout",
          "text": [
            "max_iter=10: Test Accuracy = 0.9687\n"
          ]
        },
        {
          "output_type": "stream",
          "name": "stderr",
          "text": [
            "/usr/local/lib/python3.11/dist-packages/sklearn/neural_network/_multilayer_perceptron.py:691: ConvergenceWarning: Stochastic Optimizer: Maximum iterations (20) reached and the optimization hasn't converged yet.\n",
            "  warnings.warn(\n"
          ]
        },
        {
          "output_type": "stream",
          "name": "stdout",
          "text": [
            "max_iter=20: Test Accuracy = 0.9719\n"
          ]
        },
        {
          "output_type": "stream",
          "name": "stderr",
          "text": [
            "/usr/local/lib/python3.11/dist-packages/sklearn/neural_network/_multilayer_perceptron.py:691: ConvergenceWarning: Stochastic Optimizer: Maximum iterations (50) reached and the optimization hasn't converged yet.\n",
            "  warnings.warn(\n"
          ]
        },
        {
          "output_type": "stream",
          "name": "stdout",
          "text": [
            "max_iter=50: Test Accuracy = 0.9709\n",
            "max_iter=100: Test Accuracy = 0.9738\n",
            "max_iter=150: Test Accuracy = 0.9738\n",
            "max_iter=200: Test Accuracy = 0.9738\n"
          ]
        },
        {
          "output_type": "display_data",
          "data": {
            "text/plain": [
              "<Figure size 600x400 with 1 Axes>"
            ],
            "image/png": "[encoded data removed]"
          },
          "metadata": {}
        }
      ],
      "id": "36_034k00QTp"
    },
    {
      "cell_type": "markdown",
      "metadata": {
        "id": "pbBVXCXS0QTq"
      },
      "source": [
        "# Part 2: Exploring Neural Network Design Choices using Keras"
      ],
      "id": "pbBVXCXS0QTq"
    },
    {
      "cell_type": "markdown",
      "metadata": {
        "id": "VkJhlOl20QTq"
      },
      "source": [
        "## Data Preparation for Keras"
      ],
      "id": "VkJhlOl20QTq"
    },
    {
      "cell_type": "code",
      "metadata": {
        "colab": {
          "base_uri": "https://localhost:8080/"
        },
        "id": "ZBDI6O-E0QTq",
        "outputId": "ad969095-5cb4-4823-b022-7d18e87e51df"
      },
      "source": [
        "# Data Preparation for Keras\n",
        "X_train_keras, X_test_keras, y_train_keras_orig, y_test_keras_orig = train_test_split(\n",
        "    X_scaled, y, train_size=60000, test_size=10000, random_state=42\n",
        ")\n",
        "y_train_keras = to_categorical(y_train_keras_orig, num_classes=10)\n",
        "y_test_keras = to_categorical(y_test_keras_orig, num_classes=10)\n",
        "print(\"Shapes:\")\n",
        "print(\"X_train_keras:\", X_train_keras.shape)\n",
        "print(\"X_test_keras:\", X_test_keras.shape)\n",
        "print(\"y_train_keras:\", y_train_keras.shape)\n",
        "print(\"y_test_keras:\", y_test_keras.shape)"
      ],
      "execution_count": 11,
      "outputs": [
        {
          "output_type": "stream",
          "name": "stdout",
          "text": [
            "Shapes:\n",
            "X_train_keras: (60000, 784)\n",
            "X_test_keras: (10000, 784)\n",
            "y_train_keras: (60000, 10)\n",
            "y_test_keras: (10000, 10)\n"
          ]
        }
      ],
      "id": "ZBDI6O-E0QTq"
    },
    {
      "cell_type": "markdown",
      "metadata": {
        "id": "ax5ztwY-0QTq"
      },
      "source": [
        "## 1. Number of Nodes"
      ],
      "id": "ax5ztwY-0QTq"
    },
    {
      "cell_type": "code",
      "metadata": {
        "colab": {
          "base_uri": "https://localhost:8080/",
          "height": 793
        },
        "id": "Q2QuZBXX0QTq",
        "outputId": "08333629-ed09-4a2e-c271-2f18b1fde4d5"
      },
      "source": [
        "# 1. Number of Nodes\n",
        "node_counts = [4, 32, 64, 128, 512, 2056]  # Note: 2056 nodes as per PDF, typically powers of 2 like 2048 are used.\n",
        "results = []\n",
        "for nodes in node_counts:\n",
        "    model = Sequential([\n",
        "        Dense(nodes, activation='relu', input_shape=(784,)),\n",
        "        Dense(10, activation='softmax')\n",
        "    ])\n",
        "    model.compile(optimizer='adam', loss='categorical_crossentropy', metrics=['accuracy'])\n",
        "    start = time.time()\n",
        "    model.fit(X_train_keras, y_train_keras, epochs=10, batch_size=128, verbose=0)\n",
        "    train_acc = model.evaluate(X_train_keras, y_train_keras, verbose=0)[1]\n",
        "    test_acc = model.evaluate(X_test_keras, y_test_keras, verbose=0)[1]\n",
        "    end = time.time()\n",
        "    params = model.count_params()\n",
        "    results.append((nodes, train_acc, test_acc, params, end-start))\n",
        "    print(f\"Nodes: {nodes}, Train Acc: {train_acc:.4f}, Test Acc: {test_acc:.4f}, Params: {params}, Time: {end-start:.2f}s\")\n",
        "\n",
        "# Present results in a table\n",
        "import pandas as pd\n",
        "df = pd.DataFrame(results, columns=['Nodes', 'Train Acc', 'Test Acc', 'Params', 'Time (s)'])\n",
        "display(df)\n",
        "\n",
        "# Plot\n",
        "plt.figure(figsize=(7,4))\n",
        "plt.plot([r[0] for r in results], [r[2] for r in results], marker='o')\n",
        "plt.xlabel('Number of Nodes in Hidden Layer')\n",
        "plt.ylabel('Test Accuracy')\n",
        "plt.title('Test Accuracy vs. Number of Nodes')\n",
        "plt.grid(True)\n",
        "plt.show()"
      ],
      "execution_count": 12,
      "outputs": [
        {
          "output_type": "stream",
          "name": "stderr",
          "text": [
            "/usr/local/lib/python3.11/dist-packages/keras/src/layers/core/dense.py:87: UserWarning: Do not pass an `input_shape`/`input_dim` argument to a layer. When using Sequential models, prefer using an `Input(shape)` object as the first layer in the model instead.\n",
            "  super().__init__(activity_regularizer=activity_regularizer, **kwargs)\n"
          ]
        },
        {
          "output_type": "stream",
          "name": "stdout",
          "text": [
            "Nodes: 4, Train Acc: 0.8616, Test Acc: 0.8579, Params: 3190, Time: 21.50s\n",
            "Nodes: 32, Train Acc: 0.9732, Test Acc: 0.9589, Params: 25450, Time: 21.43s\n",
            "Nodes: 64, Train Acc: 0.9866, Test Acc: 0.9683, Params: 50890, Time: 19.91s\n",
            "Nodes: 128, Train Acc: 0.9939, Test Acc: 0.9729, Params: 101770, Time: 22.70s\n",
            "Nodes: 512, Train Acc: 0.9979, Test Acc: 0.9771, Params: 407050, Time: 20.66s\n",
            "Nodes: 2056, Train Acc: 0.9984, Test Acc: 0.9802, Params: 1634530, Time: 22.33s\n"
          ]
        },
        {
          "output_type": "display_data",
          "data": {
            "text/plain": [
              "   Nodes  Train Acc  Test Acc   Params   Time (s)\n",
              "0      4   0.861650    0.8579     3190  21.504704\n",
              "1     32   0.973217    0.9589    25450  21.433995\n",
              "2     64   0.986633    0.9683    50890  19.910129\n",
              "3    128   0.993867    0.9729   101770  22.696891\n",
              "4    512   0.997867    0.9771   407050  20.659131\n",
              "5   2056   0.998367    0.9802  1634530  22.334347"
            ],
            "text/html": [
              "\n",
              "  <div id=\"df-990c16e8-8cbe-4b9e-84a3-9315aa65024c\" class=\"colab-df-container\">\n",
              "    <div>\n",
              "<style scoped>\n",
              "    .dataframe tbody tr th:only-of-type {\n",
              "        vertical-align: middle;\n",
              "    }\n",
              "\n",
              "    .dataframe tbody tr th {\n",
              "        vertical-align: top;\n",
              "    }\n",
              "\n",
              "    .dataframe thead th {\n",
              "        text-align: right;\n",
              "    }\n",
              "</style>\n",
              "<table border=\"1\" class=\"dataframe\">\n",
              "  <thead>\n",
              "    <tr style=\"text-align: right;\">\n",
              "      <th></th>\n",
              "      <th>Nodes</th>\n",
              "      <th>Train Acc</th>\n",
              "      <th>Test Acc</th>\n",
              "      <th>Params</th>\n",
              "      <th>Time (s)</th>\n",
              "    </tr>\n",
              "  </thead>\n",
              "  <tbody>\n",
              "    <tr>\n",
              "      <th>0</th>\n",
              "      <td>4</td>\n",
              "      <td>0.861650</td>\n",
              "      <td>0.8579</td>\n",
              "      <td>3190</td>\n",
              "      <td>21.504704</td>\n",
              "    </tr>\n",
              "    <tr>\n",
              "      <th>1</th>\n",
              "      <td>32</td>\n",
              "      <td>0.973217</td>\n",
              "      <td>0.9589</td>\n",
              "      <td>25450</td>\n",
              "      <td>21.433995</td>\n",
              "    </tr>\n",
              "    <tr>\n",
              "      <th>2</th>\n",
              "      <td>64</td>\n",
              "      <td>0.986633</td>\n",
              "      <td>0.9683</td>\n",
              "      <td>50890</td>\n",
              "      <td>19.910129</td>\n",
              "    </tr>\n",
              "    <tr>\n",
              "      <th>3</th>\n",
              "      <td>128</td>\n",
              "      <td>0.993867</td>\n",
              "      <td>0.9729</td>\n",
              "      <td>101770</td>\n",
              "      <td>22.696891</td>\n",
              "    </tr>\n",
              "    <tr>\n",
              "      <th>4</th>\n",
              "      <td>512</td>\n",
              "      <td>0.997867</td>\n",
              "      <td>0.9771</td>\n",
              "      <td>407050</td>\n",
              "      <td>20.659131</td>\n",
              "    </tr>\n",
              "    <tr>\n",
              "      <th>5</th>\n",
              "      <td>2056</td>\n",
              "      <td>0.998367</td>\n",
              "      <td>0.9802</td>\n",
              "      <td>1634530</td>\n",
              "      <td>22.334347</td>\n",
              "    </tr>\n",
              "  </tbody>\n",
              "</table>\n",
              "</div>\n",
              "    <div class=\"colab-df-buttons\">\n",
              "\n",
              "  <div class=\"colab-df-container\">\n",
              "    <button class=\"colab-df-convert\" onclick=\"convertToInteractive('df-990c16e8-8cbe-4b9e-84a3-9315aa65024c')\"\n",
              "            title=\"Convert this dataframe to an interactive table.\"\n",
              "            style=\"display:none;\">\n",
              "\n",
              "  <svg xmlns=\"http://www.w3.org/2000/svg\" height=\"24px\" viewBox=\"0 -960 960 960\">\n",
              "    <path d=\"M120-120v-720h720v720H120Zm60-500h600v-160H180v160Zm220 220h160v-160H400v160Zm0 220h160v-160H400v160ZM180-400h160v-160H180v160Zm440 0h160v-160H620v160ZM180-180h160v-160H180v160Zm440 0h160v-160H620v160Z\"/>\n",
              "  </svg>\n",
              "    </button>\n",
              "\n",
              "  <style>\n",
              "    .colab-df-container {\n",
              "      display:flex;\n",
              "      gap: 12px;\n",
              "    }\n",
              "\n",
              "    .colab-df-convert {\n",
              "      background-color: #E8F0FE;\n",
              "      border: none;\n",
              "      border-radius: 50%;\n",
              "      cursor: pointer;\n",
              "      display: none;\n",
              "      fill: #1967D2;\n",
              "      height: 32px;\n",
              "      padding: 0 0 0 0;\n",
              "      width: 32px;\n",
              "    }\n",
              "\n",
              "    .colab-df-convert:hover {\n",
              "      background-color: #E2EBFA;\n",
              "      box-shadow: 0px 1px 2px rgba(60, 64, 67, 0.3), 0px 1px 3px 1px rgba(60, 64, 67, 0.15);\n",
              "      fill: #174EA6;\n",
              "    }\n",
              "\n",
              "    .colab-df-buttons div {\n",
              "      margin-bottom: 4px;\n",
              "    }\n",
              "\n",
              "    [theme=dark] .colab-df-convert {\n",
              "      background-color: #3B4455;\n",
              "      fill: #D2E3FC;\n",
              "    }\n",
              "\n",
              "    [theme=dark] .colab-df-convert:hover {\n",
              "      background-color: #434B5C;\n",
              "      box-shadow: 0px 1px 3px 1px rgba(0, 0, 0, 0.15);\n",
              "      filter: drop-shadow(0px 1px 2px rgba(0, 0, 0, 0.3));\n",
              "      fill: #FFFFFF;\n",
              "    }\n",
              "  </style>\n",
              "\n",
              "    <script>\n",
              "      const buttonEl =\n",
              "        document.querySelector('#df-990c16e8-8cbe-4b9e-84a3-9315aa65024c button.colab-df-convert');\n",
              "      buttonEl.style.display =\n",
              "        google.colab.kernel.accessAllowed ? 'block' : 'none';\n",
              "\n",
              "      async function convertToInteractive(key) {\n",
              "        const element = document.querySelector('#df-990c16e8-8cbe-4b9e-84a3-9315aa65024c');\n",
              "        const dataTable =\n",
              "          await google.colab.kernel.invokeFunction('convertToInteractive',\n",
              "                                                    [key], {});\n",
              "        if (!dataTable) return;\n",
              "\n",
              "        const docLinkHtml = 'Like what you see? Visit the ' +\n",
              "          '<a target=\"_blank\" href=https://colab.research.google.com/notebooks/data_table.ipynb>data table notebook</a>'\n",
              "          + ' to learn more about interactive tables.';\n",
              "        element.innerHTML = '';\n",
              "        dataTable['output_type'] = 'display_data';\n",
              "        await google.colab.output.renderOutput(dataTable, element);\n",
              "        const docLink = document.createElement('div');\n",
              "        docLink.innerHTML = docLinkHtml;\n",
              "        element.appendChild(docLink);\n",
              "      }\n",
              "    </script>\n",
              "  </div>\n",
              "\n",
              "\n",
              "    <div id=\"df-0f9a0314-f700-4ec4-8d77-fa2a032ddb63\">\n",
              "      <button class=\"colab-df-quickchart\" onclick=\"quickchart('df-0f9a0314-f700-4ec4-8d77-fa2a032ddb63')\"\n",
              "                title=\"Suggest charts\"\n",
              "                style=\"display:none;\">\n",
              "\n",
              "<svg xmlns=\"http://www.w3.org/2000/svg\" height=\"24px\"viewBox=\"0 0 24 24\"\n",
              "     width=\"24px\">\n",
              "    <g>\n",
              "        <path d=\"M19 3H5c-1.1 0-2 .9-2 2v14c0 1.1.9 2 2 2h14c1.1 0 2-.9 2-2V5c0-1.1-.9-2-2-2zM9 17H7v-7h2v7zm4 0h-2V7h2v10zm4 0h-2v-4h2v4z\"/>\n",
              "    </g>\n",
              "</svg>\n",
              "      </button>\n",
              "\n",
              "<style>\n",
              "  .colab-df-quickchart {\n",
              "      --bg-color: #E8F0FE;\n",
              "      --fill-color: #1967D2;\n",
              "      --hover-bg-color: #E2EBFA;\n",
              "      --hover-fill-color: #174EA6;\n",
              "      --disabled-fill-color: #AAA;\n",
              "      --disabled-bg-color: #DDD;\n",
              "  }\n",
              "\n",
              "  [theme=dark] .colab-df-quickchart {\n",
              "      --bg-color: #3B4455;\n",
              "      --fill-color: #D2E3FC;\n",
              "      --hover-bg-color: #434B5C;\n",
              "      --hover-fill-color: #FFFFFF;\n",
              "      --disabled-bg-color: #3B4455;\n",
              "      --disabled-fill-color: #666;\n",
              "  }\n",
              "\n",
              "  .colab-df-quickchart {\n",
              "    background-color: var(--bg-color);\n",
              "    border: none;\n",
              "    border-radius: 50%;\n",
              "    cursor: pointer;\n",
              "    display: none;\n",
              "    fill: var(--fill-color);\n",
              "    height: 32px;\n",
              "    padding: 0;\n",
              "    width: 32px;\n",
              "  }\n",
              "\n",
              "  .colab-df-quickchart:hover {\n",
              "    background-color: var(--hover-bg-color);\n",
              "    box-shadow: 0 1px 2px rgba(60, 64, 67, 0.3), 0 1px 3px 1px rgba(60, 64, 67, 0.15);\n",
              "    fill: var(--button-hover-fill-color);\n",
              "  }\n",
              "\n",
              "  .colab-df-quickchart-complete:disabled,\n",
              "  .colab-df-quickchart-complete:disabled:hover {\n",
              "    background-color: var(--disabled-bg-color);\n",
              "    fill: var(--disabled-fill-color);\n",
              "    box-shadow: none;\n",
              "  }\n",
              "\n",
              "  .colab-df-spinner {\n",
              "    border: 2px solid var(--fill-color);\n",
              "    border-color: transparent;\n",
              "    border-bottom-color: var(--fill-color);\n",
              "    animation:\n",
              "      spin 1s steps(1) infinite;\n",
              "  }\n",
              "\n",
              "  @keyframes spin {\n",
              "    0% {\n",
              "      border-color: transparent;\n",
              "      border-bottom-color: var(--fill-color);\n",
              "      border-left-color: var(--fill-color);\n",
              "    }\n",
              "    20% {\n",
              "      border-color: transparent;\n",
              "      border-left-color: var(--fill-color);\n",
              "      border-top-color: var(--fill-color);\n",
              "    }\n",
              "    30% {\n",
              "      border-color: transparent;\n",
              "      border-left-color: var(--fill-color);\n",
              "      border-top-color: var(--fill-color);\n",
              "      border-right-color: var(--fill-color);\n",
              "    }\n",
              "    40% {\n",
              "      border-color: transparent;\n",
              "      border-right-color: var(--fill-color);\n",
              "      border-top-color: var(--fill-color);\n",
              "    }\n",
              "    60% {\n",
              "      border-color: transparent;\n",
              "      border-right-color: var(--fill-color);\n",
              "    }\n",
              "    80% {\n",
              "      border-color: transparent;\n",
              "      border-right-color: var(--fill-color);\n",
              "      border-bottom-color: var(--fill-color);\n",
              "    }\n",
              "    90% {\n",
              "      border-color: transparent;\n",
              "      border-bottom-color: var(--fill-color);\n",
              "    }\n",
              "  }\n",
              "</style>\n",
              "\n",
              "      <script>\n",
              "        async function quickchart(key) {\n",
              "          const quickchartButtonEl =\n",
              "            document.querySelector('#' + key + ' button');\n",
              "          quickchartButtonEl.disabled = true;  // To prevent multiple clicks.\n",
              "          quickchartButtonEl.classList.add('colab-df-spinner');\n",
              "          try {\n",
              "            const charts = await google.colab.kernel.invokeFunction(\n",
              "                'suggestCharts', [key], {});\n",
              "          } catch (error) {\n",
              "            console.error('Error during call to suggestCharts:', error);\n",
              "          }\n",
              "          quickchartButtonEl.classList.remove('colab-df-spinner');\n",
              "          quickchartButtonEl.classList.add('colab-df-quickchart-complete');\n",
              "        }\n",
              "        (() => {\n",
              "          let quickchartButtonEl =\n",
              "            document.querySelector('#df-0f9a0314-f700-4ec4-8d77-fa2a032ddb63 button');\n",
              "          quickchartButtonEl.style.display =\n",
              "            google.colab.kernel.accessAllowed ? 'block' : 'none';\n",
              "        })();\n",
              "      </script>\n",
              "    </div>\n",
              "\n",
              "  <div id=\"id_c2345521-440d-471c-8669-96ebd9bd9f0b\">\n",
              "    <style>\n",
              "      .colab-df-generate {\n",
              "        background-color: #E8F0FE;\n",
              "        border: none;\n",
              "        border-radius: 50%;\n",
              "        cursor: pointer;\n",
              "        display: none;\n",
              "        fill: #1967D2;\n",
              "        height: 32px;\n",
              "        padding: 0 0 0 0;\n",
              "        width: 32px;\n",
              "      }\n",
              "\n",
              "      .colab-df-generate:hover {\n",
              "        background-color: #E2EBFA;\n",
              "        box-shadow: 0px 1px 2px rgba(60, 64, 67, 0.3), 0px 1px 3px 1px rgba(60, 64, 67, 0.15);\n",
              "        fill: #174EA6;\n",
              "      }\n",
              "\n",
              "      [theme=dark] .colab-df-generate {\n",
              "        background-color: #3B4455;\n",
              "        fill: #D2E3FC;\n",
              "      }\n",
              "\n",
              "      [theme=dark] .colab-df-generate:hover {\n",
              "        background-color: #434B5C;\n",
              "        box-shadow: 0px 1px 3px 1px rgba(0, 0, 0, 0.15);\n",
              "        filter: drop-shadow(0px 1px 2px rgba(0, 0, 0, 0.3));\n",
              "        fill: #FFFFFF;\n",
              "      }\n",
              "    </style>\n",
              "    <button class=\"colab-df-generate\" onclick=\"generateWithVariable('df')\"\n",
              "            title=\"Generate code using this dataframe.\"\n",
              "            style=\"display:none;\">\n",
              "\n",
              "  <svg xmlns=\"http://www.w3.org/2000/svg\" height=\"24px\"viewBox=\"0 0 24 24\"\n",
              "       width=\"24px\">\n",
              "    <path d=\"M7,19H8.4L18.45,9,17,7.55,7,17.6ZM5,21V16.75L18.45,3.32a2,2,0,0,1,2.83,0l1.4,1.43a1.91,1.91,0,0,1,.58,1.4,1.91,1.91,0,0,1-.58,1.4L9.25,21ZM18.45,9,17,7.55Zm-12,3A5.31,5.31,0,0,0,4.9,8.1,5.31,5.31,0,0,0,1,6.5,5.31,5.31,0,0,0,4.9,4.9,5.31,5.31,0,0,0,6.5,1,5.31,5.31,0,0,0,8.1,4.9,5.31,5.31,0,0,0,12,6.5,5.46,5.46,0,0,0,6.5,12Z\"/>\n",
              "  </svg>\n",
              "    </button>\n",
              "    <script>\n",
              "      (() => {\n",
              "      const buttonEl =\n",
              "        document.querySelector('#id_c2345521-440d-471c-8669-96ebd9bd9f0b button.colab-df-generate');\n",
              "      buttonEl.style.display =\n",
              "        google.colab.kernel.accessAllowed ? 'block' : 'none';\n",
              "\n",
              "      buttonEl.onclick = () => {\n",
              "        google.colab.notebook.generateWithVariable('df');\n",
              "      }\n",
              "      })();\n",
              "    </script>\n",
              "  </div>\n",
              "\n",
              "    </div>\n",
              "  </div>\n"
            ],
            "application/vnd.google.colaboratory.intrinsic+json": {
              "type": "dataframe",
              "variable_name": "df",
              "summary": "{\n  \"name\": \"df\",\n  \"rows\": 6,\n  \"fields\": [\n    {\n      \"column\": \"Nodes\",\n      \"properties\": {\n        \"dtype\": \"number\",\n        \"std\": 800,\n        \"min\": 4,\n        \"max\": 2056,\n        \"num_unique_values\": 6,\n        \"samples\": [\n          4,\n          32,\n          2056\n        ],\n        \"semantic_type\": \"\",\n        \"description\": \"\"\n      }\n    },\n    {\n      \"column\": \"Train Acc\",\n      \"properties\": {\n        \"dtype\": \"number\",\n        \"std\": 0.05322747082547726,\n        \"min\": 0.8616499900817871,\n        \"max\": 0.99836665391922,\n        \"num_unique_values\": 6,\n        \"samples\": [\n          0.8616499900817871,\n          0.9732166528701782,\n          0.99836665391922\n        ],\n        \"semantic_type\": \"\",\n        \"description\": \"\"\n      }\n    },\n    {\n      \"column\": \"Test Acc\",\n      \"properties\": {\n        \"dtype\": \"number\",\n        \"std\": 0.046964558970910175,\n        \"min\": 0.8579000234603882,\n        \"max\": 0.9801999926567078,\n        \"num_unique_values\": 6,\n        \"samples\": [\n          0.8579000234603882,\n          0.958899974822998,\n          0.9801999926567078\n        ],\n        \"semantic_type\": \"\",\n        \"description\": \"\"\n      }\n    },\n    {\n      \"column\": \"Params\",\n      \"properties\": {\n        \"dtype\": \"number\",\n        \"std\": 636781,\n        \"min\": 3190,\n        \"max\": 1634530,\n        \"num_unique_values\": 6,\n        \"samples\": [\n          3190,\n          25450,\n          1634530\n        ],\n        \"semantic_type\": \"\",\n        \"description\": \"\"\n      }\n    },\n    {\n      \"column\": \"Time (s)\",\n      \"properties\": {\n        \"dtype\": \"number\",\n        \"std\": 1.0327073027214175,\n        \"min\": 19.910129070281982,\n        \"max\": 22.696890830993652,\n        \"num_unique_values\": 6,\n        \"samples\": [\n          21.504703521728516,\n          21.433995485305786,\n          22.334346771240234\n        ],\n        \"semantic_type\": \"\",\n        \"description\": \"\"\n      }\n    }\n  ]\n}"
            }
          },
          "metadata": {}
        },
        {
          "output_type": "display_data",
          "data": {
            "text/plain": [
              "<Figure size 700x400 with 1 Axes>"
            ],
            "image/png": "[encoded data removed]"
          },
          "metadata": {}
        }
      ],
      "id": "Q2QuZBXX0QTq"
    },
    {
      "cell_type": "markdown",
      "metadata": {
        "id": "UevKQWAz0QTq"
      },
      "source": [
        "## 2. Number of Layers"
      ],
      "id": "UevKQWAz0QTq"
    },
    {
      "cell_type": "code",
      "metadata": {
        "colab": {
          "base_uri": "https://localhost:8080/",
          "height": 1000
        },
        "id": "2jv37-aB0QTq",
        "outputId": "6622b803-4bf0-4b22-a2f3-55df7bb74419"
      },
      "source": [
        "# 2. Number of Layers\n",
        "num_hidden_layers_list = [4, 5, 6, 8, 16]\n",
        "epochs_list = [10, 30]\n",
        "for epochs_count in epochs_list:\n",
        "    print(f\"\\n### For epochs = {epochs_count}\")\n",
        "    results_layers = []\n",
        "    for n_layers in num_hidden_layers_list:\n",
        "        model = Sequential()\n",
        "        model.add(Dense(64, activation='relu', input_shape=(784,)))\n",
        "        for _ in range(n_layers-1):\n",
        "            model.add(Dense(64, activation='relu'))\n",
        "        model.add(Dense(10, activation='softmax'))\n",
        "        model.compile(optimizer='adam', loss='categorical_crossentropy', metrics=['accuracy'])\n",
        "        start = time.time()\n",
        "        model.fit(X_train_keras, y_train_keras, epochs=epochs_count, batch_size=128, verbose=0)\n",
        "        train_acc = model.evaluate(X_train_keras, y_train_keras, verbose=0)[1]\n",
        "        test_acc = model.evaluate(X_test_keras, y_test_keras, verbose=0)[1]\n",
        "        end = time.time()\n",
        "        params = model.count_params()\n",
        "        results_layers.append((n_layers, train_acc, test_acc, params, end-start))\n",
        "        print(f\"Layers: {n_layers}, Train Acc: {train_acc:.4f}, Test Acc: {test_acc:.4f}, Params: {params}, Time: {end-start:.2f}s\")\n",
        "    # Plot for this epoch count\n",
        "    plt.figure(figsize=(7,4))\n",
        "    plt.plot([r[0] for r in results_layers], [r[2] for r in results_layers], marker='o', label=f'Epochs={epochs_count}')\n",
        "    plt.xlabel('Number of Hidden Layers')\n",
        "    plt.ylabel('Test Accuracy')\n",
        "    plt.title(f'Test Accuracy vs. Number of Layers (Epochs={epochs_count})')\n",
        "    plt.grid(True)\n",
        "    plt.show()"
      ],
      "execution_count": 13,
      "outputs": [
        {
          "output_type": "stream",
          "name": "stdout",
          "text": [
            "\n",
            "### For epochs = 10\n"
          ]
        },
        {
          "output_type": "stream",
          "name": "stderr",
          "text": [
            "/usr/local/lib/python3.11/dist-packages/keras/src/layers/core/dense.py:87: UserWarning: Do not pass an `input_shape`/`input_dim` argument to a layer. When using Sequential models, prefer using an `Input(shape)` object as the first layer in the model instead.\n",
            "  super().__init__(activity_regularizer=activity_regularizer, **kwargs)\n"
          ]
        },
        {
          "output_type": "stream",
          "name": "stdout",
          "text": [
            "Layers: 4, Train Acc: 0.9901, Test Acc: 0.9704, Params: 63370, Time: 21.28s\n",
            "Layers: 5, Train Acc: 0.9860, Test Acc: 0.9651, Params: 67530, Time: 24.27s\n",
            "Layers: 6, Train Acc: 0.9916, Test Acc: 0.9722, Params: 71690, Time: 23.00s\n",
            "Layers: 8, Train Acc: 0.9862, Test Acc: 0.9670, Params: 80010, Time: 24.52s\n",
            "Layers: 16, Train Acc: 0.9822, Test Acc: 0.9645, Params: 113290, Time: 34.76s\n"
          ]
        },
        {
          "output_type": "display_data",
          "data": {
            "text/plain": [
              "<Figure size 700x400 with 1 Axes>"
            ],
            "image/png": "[encoded data removed]"
          },
          "metadata": {}
        },
        {
          "output_type": "stream",
          "name": "stdout",
          "text": [
            "\n",
            "### For epochs = 30\n",
            "Layers: 4, Train Acc: 0.9950, Test Acc: 0.9707, Params: 63370, Time: 51.70s\n",
            "Layers: 5, Train Acc: 0.9961, Test Acc: 0.9703, Params: 67530, Time: 50.06s\n",
            "Layers: 6, Train Acc: 0.9949, Test Acc: 0.9697, Params: 71690, Time: 48.73s\n",
            "Layers: 8, Train Acc: 0.9955, Test Acc: 0.9725, Params: 80010, Time: 51.91s\n",
            "Layers: 16, Train Acc: 0.9956, Test Acc: 0.9738, Params: 113290, Time: 75.09s\n"
          ]
        },
        {
          "output_type": "display_data",
          "data": {
            "text/plain": [
              "<Figure size 700x400 with 1 Axes>"
            ],
            "image/png": "[encoded data removed]"
          },
          "metadata": {}
        }
      ],
      "id": "2jv37-aB0QTq"
    },
    {
      "cell_type": "markdown",
      "metadata": {
        "id": "6ADzNh2o0QTr"
      },
      "source": [
        "## 3. Layer-node combinations"
      ],
      "id": "6ADzNh2o0QTr"
    },
    {
      "cell_type": "code",
      "metadata": {
        "colab": {
          "base_uri": "https://localhost:8080/",
          "height": 331
        },
        "id": "P5UGBmNt0QTr",
        "outputId": "d9caf1f4-561f-480a-f347-625a9ae649bd"
      },
      "source": [
        "# 3. Layer-node combinations\n",
        "structures = {\n",
        "    \"Decreasing\": [256, 128, 64],\n",
        "    \"Increasing\": [64, 128, 256],\n",
        "    \"Uniform_Medium\": [128, 128, 128],\n",
        "    \"Bottleneck\": [256, 64, 256],\n",
        "    \"Uniform_Small\": [64, 64, 64]\n",
        "}\n",
        "results_structures = []\n",
        "for name, S in structures.items():\n",
        "    model = Sequential()\n",
        "    model.add(Dense(S[0], activation='relu', input_shape=(784,)))\n",
        "    for nodes in S[1:]:\n",
        "        model.add(Dense(nodes, activation='relu'))\n",
        "    model.add(Dense(10, activation='softmax'))\n",
        "    model.compile(optimizer='adam', loss='categorical_crossentropy', metrics=['accuracy'])\n",
        "    start = time.time()\n",
        "    model.fit(X_train_keras, y_train_keras, epochs=10, batch_size=128, verbose=0)\n",
        "    test_acc = model.evaluate(X_test_keras, y_test_keras, verbose=0)[1]\n",
        "    end = time.time()\n",
        "    params = model.count_params()\n",
        "    results_structures.append((name, test_acc, params, end-start))\n",
        "    print(f\"Structure: {name}, Test Acc: {test_acc:.4f}, Params: {params}, Time: {end-start:.2f}s\")\n",
        "\n",
        "# Present results\n",
        "df_struct = pd.DataFrame(results_structures, columns=['Structure', 'Test Acc', 'Params', 'Time (s)'])\n",
        "display(df_struct)\n",
        "best_struct = max(results_structures, key=lambda x: x[1])\n",
        "print(f\"\\nBest structure: {best_struct[0]} with Test Accuracy: {best_struct[1]:.4f}\")"
      ],
      "execution_count": 14,
      "outputs": [
        {
          "output_type": "stream",
          "name": "stdout",
          "text": [
            "Structure: Decreasing, Test Acc: 0.9754, Params: 242762, Time: 17.70s\n",
            "Structure: Increasing, Test Acc: 0.9745, Params: 94154, Time: 21.88s\n",
            "Structure: Uniform_Medium, Test Acc: 0.9728, Params: 134794, Time: 16.12s\n",
            "Structure: Bottleneck, Test Acc: 0.9748, Params: 236618, Time: 16.94s\n",
            "Structure: Uniform_Small, Test Acc: 0.9700, Params: 59210, Time: 17.53s\n"
          ]
        },
        {
          "output_type": "display_data",
          "data": {
            "text/plain": [
              "        Structure  Test Acc  Params   Time (s)\n",
              "0      Decreasing    0.9754  242762  17.704056\n",
              "1      Increasing    0.9745   94154  21.876060\n",
              "2  Uniform_Medium    0.9728  134794  16.121744\n",
              "3      Bottleneck    0.9748  236618  16.943021\n",
              "4   Uniform_Small    0.9700   59210  17.530513"
            ],
            "text/html": [
              "\n",
              "  <div id=\"df-68f372e6-a221-4abc-a23d-c9739b129901\" class=\"colab-df-container\">\n",
              "    <div>\n",
              "<style scoped>\n",
              "    .dataframe tbody tr th:only-of-type {\n",
              "        vertical-align: middle;\n",
              "    }\n",
              "\n",
              "    .dataframe tbody tr th {\n",
              "        vertical-align: top;\n",
              "    }\n",
              "\n",
              "    .dataframe thead th {\n",
              "        text-align: right;\n",
              "    }\n",
              "</style>\n",
              "<table border=\"1\" class=\"dataframe\">\n",
              "  <thead>\n",
              "    <tr style=\"text-align: right;\">\n",
              "      <th></th>\n",
              "      <th>Structure</th>\n",
              "      <th>Test Acc</th>\n",
              "      <th>Params</th>\n",
              "      <th>Time (s)</th>\n",
              "    </tr>\n",
              "  </thead>\n",
              "  <tbody>\n",
              "    <tr>\n",
              "      <th>0</th>\n",
              "      <td>Decreasing</td>\n",
              "      <td>0.9754</td>\n",
              "      <td>242762</td>\n",
              "      <td>17.704056</td>\n",
              "    </tr>\n",
              "    <tr>\n",
              "      <th>1</th>\n",
              "      <td>Increasing</td>\n",
              "      <td>0.9745</td>\n",
              "      <td>94154</td>\n",
              "      <td>21.876060</td>\n",
              "    </tr>\n",
              "    <tr>\n",
              "      <th>2</th>\n",
              "      <td>Uniform_Medium</td>\n",
              "      <td>0.9728</td>\n",
              "      <td>134794</td>\n",
              "      <td>16.121744</td>\n",
              "    </tr>\n",
              "    <tr>\n",
              "      <th>3</th>\n",
              "      <td>Bottleneck</td>\n",
              "      <td>0.9748</td>\n",
              "      <td>236618</td>\n",
              "      <td>16.943021</td>\n",
              "    </tr>\n",
              "    <tr>\n",
              "      <th>4</th>\n",
              "      <td>Uniform_Small</td>\n",
              "      <td>0.9700</td>\n",
              "      <td>59210</td>\n",
              "      <td>17.530513</td>\n",
              "    </tr>\n",
              "  </tbody>\n",
              "</table>\n",
              "</div>\n",
              "    <div class=\"colab-df-buttons\">\n",
              "\n",
              "  <div class=\"colab-df-container\">\n",
              "    <button class=\"colab-df-convert\" onclick=\"convertToInteractive('df-68f372e6-a221-4abc-a23d-c9739b129901')\"\n",
              "            title=\"Convert this dataframe to an interactive table.\"\n",
              "            style=\"display:none;\">\n",
              "\n",
              "  <svg xmlns=\"http://www.w3.org/2000/svg\" height=\"24px\" viewBox=\"0 -960 960 960\">\n",
              "    <path d=\"M120-120v-720h720v720H120Zm60-500h600v-160H180v160Zm220 220h160v-160H400v160Zm0 220h160v-160H400v160ZM180-400h160v-160H180v160Zm440 0h160v-160H620v160ZM180-180h160v-160H180v160Zm440 0h160v-160H620v160Z\"/>\n",
              "  </svg>\n",
              "    </button>\n",
              "\n",
              "  <style>\n",
              "    .colab-df-container {\n",
              "      display:flex;\n",
              "      gap: 12px;\n",
              "    }\n",
              "\n",
              "    .colab-df-convert {\n",
              "      background-color: #E8F0FE;\n",
              "      border: none;\n",
              "      border-radius: 50%;\n",
              "      cursor: pointer;\n",
              "      display: none;\n",
              "      fill: #1967D2;\n",
              "      height: 32px;\n",
              "      padding: 0 0 0 0;\n",
              "      width: 32px;\n",
              "    }\n",
              "\n",
              "    .colab-df-convert:hover {\n",
              "      background-color: #E2EBFA;\n",
              "      box-shadow: 0px 1px 2px rgba(60, 64, 67, 0.3), 0px 1px 3px 1px rgba(60, 64, 67, 0.15);\n",
              "      fill: #174EA6;\n",
              "    }\n",
              "\n",
              "    .colab-df-buttons div {\n",
              "      margin-bottom: 4px;\n",
              "    }\n",
              "\n",
              "    [theme=dark] .colab-df-convert {\n",
              "      background-color: #3B4455;\n",
              "      fill: #D2E3FC;\n",
              "    }\n",
              "\n",
              "    [theme=dark] .colab-df-convert:hover {\n",
              "      background-color: #434B5C;\n",
              "      box-shadow: 0px 1px 3px 1px rgba(0, 0, 0, 0.15);\n",
              "      filter: drop-shadow(0px 1px 2px rgba(0, 0, 0, 0.3));\n",
              "      fill: #FFFFFF;\n",
              "    }\n",
              "  </style>\n",
              "\n",
              "    <script>\n",
              "      const buttonEl =\n",
              "        document.querySelector('#df-68f372e6-a221-4abc-a23d-c9739b129901 button.colab-df-convert');\n",
              "      buttonEl.style.display =\n",
              "        google.colab.kernel.accessAllowed ? 'block' : 'none';\n",
              "\n",
              "      async function convertToInteractive(key) {\n",
              "        const element = document.querySelector('#df-68f372e6-a221-4abc-a23d-c9739b129901');\n",
              "        const dataTable =\n",
              "          await google.colab.kernel.invokeFunction('convertToInteractive',\n",
              "                                                    [key], {});\n",
              "        if (!dataTable) return;\n",
              "\n",
              "        const docLinkHtml = 'Like what you see? Visit the ' +\n",
              "          '<a target=\"_blank\" href=https://colab.research.google.com/notebooks/data_table.ipynb>data table notebook</a>'\n",
              "          + ' to learn more about interactive tables.';\n",
              "        element.innerHTML = '';\n",
              "        dataTable['output_type'] = 'display_data';\n",
              "        await google.colab.output.renderOutput(dataTable, element);\n",
              "        const docLink = document.createElement('div');\n",
              "        docLink.innerHTML = docLinkHtml;\n",
              "        element.appendChild(docLink);\n",
              "      }\n",
              "    </script>\n",
              "  </div>\n",
              "\n",
              "\n",
              "    <div id=\"df-628fe44b-6351-4216-91c5-0f3def5734c6\">\n",
              "      <button class=\"colab-df-quickchart\" onclick=\"quickchart('df-628fe44b-6351-4216-91c5-0f3def5734c6')\"\n",
              "                title=\"Suggest charts\"\n",
              "                style=\"display:none;\">\n",
              "\n",
              "<svg xmlns=\"http://www.w3.org/2000/svg\" height=\"24px\"viewBox=\"0 0 24 24\"\n",
              "     width=\"24px\">\n",
              "    <g>\n",
              "        <path d=\"M19 3H5c-1.1 0-2 .9-2 2v14c0 1.1.9 2 2 2h14c1.1 0 2-.9 2-2V5c0-1.1-.9-2-2-2zM9 17H7v-7h2v7zm4 0h-2V7h2v10zm4 0h-2v-4h2v4z\"/>\n",
              "    </g>\n",
              "</svg>\n",
              "      </button>\n",
              "\n",
              "<style>\n",
              "  .colab-df-quickchart {\n",
              "      --bg-color: #E8F0FE;\n",
              "      --fill-color: #1967D2;\n",
              "      --hover-bg-color: #E2EBFA;\n",
              "      --hover-fill-color: #174EA6;\n",
              "      --disabled-fill-color: #AAA;\n",
              "      --disabled-bg-color: #DDD;\n",
              "  }\n",
              "\n",
              "  [theme=dark] .colab-df-quickchart {\n",
              "      --bg-color: #3B4455;\n",
              "      --fill-color: #D2E3FC;\n",
              "      --hover-bg-color: #434B5C;\n",
              "      --hover-fill-color: #FFFFFF;\n",
              "      --disabled-bg-color: #3B4455;\n",
              "      --disabled-fill-color: #666;\n",
              "  }\n",
              "\n",
              "  .colab-df-quickchart {\n",
              "    background-color: var(--bg-color);\n",
              "    border: none;\n",
              "    border-radius: 50%;\n",
              "    cursor: pointer;\n",
              "    display: none;\n",
              "    fill: var(--fill-color);\n",
              "    height: 32px;\n",
              "    padding: 0;\n",
              "    width: 32px;\n",
              "  }\n",
              "\n",
              "  .colab-df-quickchart:hover {\n",
              "    background-color: var(--hover-bg-color);\n",
              "    box-shadow: 0 1px 2px rgba(60, 64, 67, 0.3), 0 1px 3px 1px rgba(60, 64, 67, 0.15);\n",
              "    fill: var(--button-hover-fill-color);\n",
              "  }\n",
              "\n",
              "  .colab-df-quickchart-complete:disabled,\n",
              "  .colab-df-quickchart-complete:disabled:hover {\n",
              "    background-color: var(--disabled-bg-color);\n",
              "    fill: var(--disabled-fill-color);\n",
              "    box-shadow: none;\n",
              "  }\n",
              "\n",
              "  .colab-df-spinner {\n",
              "    border: 2px solid var(--fill-color);\n",
              "    border-color: transparent;\n",
              "    border-bottom-color: var(--fill-color);\n",
              "    animation:\n",
              "      spin 1s steps(1) infinite;\n",
              "  }\n",
              "\n",
              "  @keyframes spin {\n",
              "    0% {\n",
              "      border-color: transparent;\n",
              "      border-bottom-color: var(--fill-color);\n",
              "      border-left-color: var(--fill-color);\n",
              "    }\n",
              "    20% {\n",
              "      border-color: transparent;\n",
              "      border-left-color: var(--fill-color);\n",
              "      border-top-color: var(--fill-color);\n",
              "    }\n",
              "    30% {\n",
              "      border-color: transparent;\n",
              "      border-left-color: var(--fill-color);\n",
              "      border-top-color: var(--fill-color);\n",
              "      border-right-color: var(--fill-color);\n",
              "    }\n",
              "    40% {\n",
              "      border-color: transparent;\n",
              "      border-right-color: var(--fill-color);\n",
              "      border-top-color: var(--fill-color);\n",
              "    }\n",
              "    60% {\n",
              "      border-color: transparent;\n",
              "      border-right-color: var(--fill-color);\n",
              "    }\n",
              "    80% {\n",
              "      border-color: transparent;\n",
              "      border-right-color: var(--fill-color);\n",
              "      border-bottom-color: var(--fill-color);\n",
              "    }\n",
              "    90% {\n",
              "      border-color: transparent;\n",
              "      border-bottom-color: var(--fill-color);\n",
              "    }\n",
              "  }\n",
              "</style>\n",
              "\n",
              "      <script>\n",
              "        async function quickchart(key) {\n",
              "          const quickchartButtonEl =\n",
              "            document.querySelector('#' + key + ' button');\n",
              "          quickchartButtonEl.disabled = true;  // To prevent multiple clicks.\n",
              "          quickchartButtonEl.classList.add('colab-df-spinner');\n",
              "          try {\n",
              "            const charts = await google.colab.kernel.invokeFunction(\n",
              "                'suggestCharts', [key], {});\n",
              "          } catch (error) {\n",
              "            console.error('Error during call to suggestCharts:', error);\n",
              "          }\n",
              "          quickchartButtonEl.classList.remove('colab-df-spinner');\n",
              "          quickchartButtonEl.classList.add('colab-df-quickchart-complete');\n",
              "        }\n",
              "        (() => {\n",
              "          let quickchartButtonEl =\n",
              "            document.querySelector('#df-628fe44b-6351-4216-91c5-0f3def5734c6 button');\n",
              "          quickchartButtonEl.style.display =\n",
              "            google.colab.kernel.accessAllowed ? 'block' : 'none';\n",
              "        })();\n",
              "      </script>\n",
              "    </div>\n",
              "\n",
              "  <div id=\"id_aa88083e-e964-465a-abc8-9a665c1fc253\">\n",
              "    <style>\n",
              "      .colab-df-generate {\n",
              "        background-color: #E8F0FE;\n",
              "        border: none;\n",
              "        border-radius: 50%;\n",
              "        cursor: pointer;\n",
              "        display: none;\n",
              "        fill: #1967D2;\n",
              "        height: 32px;\n",
              "        padding: 0 0 0 0;\n",
              "        width: 32px;\n",
              "      }\n",
              "\n",
              "      .colab-df-generate:hover {\n",
              "        background-color: #E2EBFA;\n",
              "        box-shadow: 0px 1px 2px rgba(60, 64, 67, 0.3), 0px 1px 3px 1px rgba(60, 64, 67, 0.15);\n",
              "        fill: #174EA6;\n",
              "      }\n",
              "\n",
              "      [theme=dark] .colab-df-generate {\n",
              "        background-color: #3B4455;\n",
              "        fill: #D2E3FC;\n",
              "      }\n",
              "\n",
              "      [theme=dark] .colab-df-generate:hover {\n",
              "        background-color: #434B5C;\n",
              "        box-shadow: 0px 1px 3px 1px rgba(0, 0, 0, 0.15);\n",
              "        filter: drop-shadow(0px 1px 2px rgba(0, 0, 0, 0.3));\n",
              "        fill: #FFFFFF;\n",
              "      }\n",
              "    </style>\n",
              "    <button class=\"colab-df-generate\" onclick=\"generateWithVariable('df_struct')\"\n",
              "            title=\"Generate code using this dataframe.\"\n",
              "            style=\"display:none;\">\n",
              "\n",
              "  <svg xmlns=\"http://www.w3.org/2000/svg\" height=\"24px\"viewBox=\"0 0 24 24\"\n",
              "       width=\"24px\">\n",
              "    <path d=\"M7,19H8.4L18.45,9,17,7.55,7,17.6ZM5,21V16.75L18.45,3.32a2,2,0,0,1,2.83,0l1.4,1.43a1.91,1.91,0,0,1,.58,1.4,1.91,1.91,0,0,1-.58,1.4L9.25,21ZM18.45,9,17,7.55Zm-12,3A5.31,5.31,0,0,0,4.9,8.1,5.31,5.31,0,0,0,1,6.5,5.31,5.31,0,0,0,4.9,4.9,5.31,5.31,0,0,0,6.5,1,5.31,5.31,0,0,0,8.1,4.9,5.31,5.31,0,0,0,12,6.5,5.46,5.46,0,0,0,6.5,12Z\"/>\n",
              "  </svg>\n",
              "    </button>\n",
              "    <script>\n",
              "      (() => {\n",
              "      const buttonEl =\n",
              "        document.querySelector('#id_aa88083e-e964-465a-abc8-9a665c1fc253 button.colab-df-generate');\n",
              "      buttonEl.style.display =\n",
              "        google.colab.kernel.accessAllowed ? 'block' : 'none';\n",
              "\n",
              "      buttonEl.onclick = () => {\n",
              "        google.colab.notebook.generateWithVariable('df_struct');\n",
              "      }\n",
              "      })();\n",
              "    </script>\n",
              "  </div>\n",
              "\n",
              "    </div>\n",
              "  </div>\n"
            ],
            "application/vnd.google.colaboratory.intrinsic+json": {
              "type": "dataframe",
              "variable_name": "df_struct",
              "summary": "{\n  \"name\": \"df_struct\",\n  \"rows\": 5,\n  \"fields\": [\n    {\n      \"column\": \"Structure\",\n      \"properties\": {\n        \"dtype\": \"string\",\n        \"num_unique_values\": 5,\n        \"samples\": [\n          \"Increasing\",\n          \"Uniform_Small\",\n          \"Uniform_Medium\"\n        ],\n        \"semantic_type\": \"\",\n        \"description\": \"\"\n      }\n    },\n    {\n      \"column\": \"Test Acc\",\n      \"properties\": {\n        \"dtype\": \"number\",\n        \"std\": 0.0021817219834065244,\n        \"min\": 0.9700000286102295,\n        \"max\": 0.9753999710083008,\n        \"num_unique_values\": 5,\n        \"samples\": [\n          0.9745000004768372,\n          0.9700000286102295,\n          0.9728000164031982\n        ],\n        \"semantic_type\": \"\",\n        \"description\": \"\"\n      }\n    },\n    {\n      \"column\": \"Params\",\n      \"properties\": {\n        \"dtype\": \"number\",\n        \"std\": 83124,\n        \"min\": 59210,\n        \"max\": 242762,\n        \"num_unique_values\": 5,\n        \"samples\": [\n          94154,\n          59210,\n          134794\n        ],\n        \"semantic_type\": \"\",\n        \"description\": \"\"\n      }\n    },\n    {\n      \"column\": \"Time (s)\",\n      \"properties\": {\n        \"dtype\": \"number\",\n        \"std\": 2.2344317939164986,\n        \"min\": 16.12174415588379,\n        \"max\": 21.876060247421265,\n        \"num_unique_values\": 5,\n        \"samples\": [\n          21.876060247421265,\n          17.530513048171997,\n          16.12174415588379\n        ],\n        \"semantic_type\": \"\",\n        \"description\": \"\"\n      }\n    }\n  ]\n}"
            }
          },
          "metadata": {}
        },
        {
          "output_type": "stream",
          "name": "stdout",
          "text": [
            "\n",
            "Best structure: Decreasing with Test Accuracy: 0.9754\n"
          ]
        }
      ],
      "id": "P5UGBmNt0QTr"
    },
    {
      "cell_type": "markdown",
      "metadata": {
        "id": "Vsj9rErB0QTr"
      },
      "source": [
        "## 4. Input Size (Interpreted as: Run a specific model configuration and report performance)"
      ],
      "id": "Vsj9rErB0QTr"
    },
    {
      "cell_type": "code",
      "metadata": {
        "colab": {
          "base_uri": "https://localhost:8080/"
        },
        "id": "HAU6yQ2K0QTr",
        "outputId": "7e0f4c54-6349-40ad-c062-f1fbe5e30be4"
      },
      "source": [
        "# 4. Input Size (fixed at 784 for MNIST)\n",
        "model = Sequential()\n",
        "for _ in range(4):\n",
        "    model.add(Dense(256, activation='relu', input_shape=(784,)))\n",
        "model.add(Dense(10, activation='softmax'))\n",
        "model.compile(optimizer='adam', loss='categorical_crossentropy', metrics=['accuracy'])\n",
        "start = time.time()\n",
        "model.fit(X_train_keras, y_train_keras, epochs=10, batch_size=128, verbose=0)\n",
        "train_acc = model.evaluate(X_train_keras, y_train_keras, verbose=0)[1]\n",
        "test_acc = model.evaluate(X_test_keras, y_test_keras, verbose=0)[1]\n",
        "end = time.time()\n",
        "params = model.count_params()\n",
        "print(f\"Train Acc: {train_acc:.4f}, Test Acc: {test_acc:.4f}, Params: {params}, Time: {end-start:.2f}s\")"
      ],
      "execution_count": 15,
      "outputs": [
        {
          "output_type": "stream",
          "name": "stderr",
          "text": [
            "/usr/local/lib/python3.11/dist-packages/keras/src/layers/core/dense.py:87: UserWarning: Do not pass an `input_shape`/`input_dim` argument to a layer. When using Sequential models, prefer using an `Input(shape)` object as the first layer in the model instead.\n",
            "  super().__init__(activity_regularizer=activity_regularizer, **kwargs)\n"
          ]
        },
        {
          "output_type": "stream",
          "name": "stdout",
          "text": [
            "Train Acc: 0.9920, Test Acc: 0.9722, Params: 400906, Time: 24.17s\n"
          ]
        }
      ],
      "id": "HAU6yQ2K0QTr"
    },
    {
      "cell_type": "markdown",
      "metadata": {
        "id": "Qb1nxTR00QTr"
      },
      "source": [
        "The question 'Print accuracies change?' is interpreted as reporting the performance for this specific architecture, as MNIST input size is fixed at 28x28 (784 features)."
      ],
      "id": "Qb1nxTR00QTr"
    },
    {
      "cell_type": "markdown",
      "metadata": {
        "id": "kQEKCi6D0QTs"
      },
      "source": [
        "## 5. Dataset Split"
      ],
      "id": "kQEKCi6D0QTs"
    },
    {
      "cell_type": "code",
      "metadata": {
        "colab": {
          "base_uri": "https://localhost:8080/",
          "height": 481
        },
        "id": "08piKU3a0QTs",
        "outputId": "7358dab2-6b0f-4820-b6a8-eb99bfbc6997"
      },
      "source": [
        "# 5. Dataset Split\n",
        "train_sizes = [50000, 40000, 30000, 60000]\n",
        "split_results = []\n",
        "for current_train_size in train_sizes:\n",
        "    current_test_size = 70000 - current_train_size\n",
        "    X_tr, X_te, y_tr, y_te = train_test_split(X_scaled, y, train_size=current_train_size, test_size=current_test_size, random_state=42)\n",
        "    y_tr_cat = to_categorical(y_tr, num_classes=10)\n",
        "    y_te_cat = to_categorical(y_te, num_classes=10)\n",
        "    model = Sequential([\n",
        "        Dense(128, activation='relu', input_shape=(784,)),\n",
        "        Dense(128, activation='relu'),\n",
        "        Dense(10, activation='softmax')\n",
        "    ])\n",
        "    model.compile(optimizer='adam', loss='categorical_crossentropy', metrics=['accuracy'])\n",
        "    model.fit(X_tr, y_tr_cat, epochs=10, batch_size=128, verbose=0)\n",
        "    test_acc = model.evaluate(X_te, y_te_cat, verbose=0)[1]\n",
        "    split_results.append((current_train_size, current_test_size, test_acc))\n",
        "    print(f\"Train Size: {current_train_size}, Test Size: {current_test_size}, Test Accuracy: {test_acc:.4f}\")\n",
        "\n",
        "# Plot\n",
        "plt.figure(figsize=(7,4))\n",
        "plt.plot([r[0] for r in split_results], [r[2] for r in split_results], marker='o')\n",
        "plt.xlabel('Training Set Size')\n",
        "plt.ylabel('Test Accuracy')\n",
        "plt.title('Test Accuracy vs. Training Set Size')\n",
        "plt.grid(True)\n",
        "plt.show()"
      ],
      "execution_count": 16,
      "outputs": [
        {
          "output_type": "stream",
          "name": "stdout",
          "text": [
            "Train Size: 50000, Test Size: 20000, Test Accuracy: 0.9716\n",
            "Train Size: 40000, Test Size: 30000, Test Accuracy: 0.9641\n",
            "Train Size: 30000, Test Size: 40000, Test Accuracy: 0.9666\n",
            "Train Size: 60000, Test Size: 10000, Test Accuracy: 0.9690\n"
          ]
        },
        {
          "output_type": "display_data",
          "data": {
            "text/plain": [
              "<Figure size 700x400 with 1 Axes>"
            ],
            "image/png": "[encoded data removed]"
          },
          "metadata": {}
        }
      ],
      "id": "08piKU3a0QTs"
    },
    {
      "cell_type": "markdown",
      "metadata": {
        "id": "6ZsVk1-Q0QTs"
      },
      "source": [
        "## 6. Activation function"
      ],
      "id": "6ZsVk1-Q0QTs"
    },
    {
      "cell_type": "code",
      "metadata": {
        "colab": {
          "base_uri": "https://localhost:8080/"
        },
        "id": "Gquuti0G0QTs",
        "outputId": "e09ebc67-7d68-4835-838f-d0e70f4f09a7"
      },
      "source": [
        "# 6. Activation function\n",
        "activations = ['sigmoid', 'tanh', 'relu']\n",
        "epochs_list = [10, 30]\n",
        "for epochs_count in epochs_list:\n",
        "    print(f\"\\n### For epochs = {epochs_count}\")\n",
        "    for activation_func in activations:\n",
        "        model = Sequential()\n",
        "        for _ in range(4):\n",
        "            model.add(Dense(64, activation=activation_func, input_shape=(784,)))\n",
        "        model.add(Dense(10, activation='softmax'))\n",
        "        model.compile(optimizer='adam', loss='categorical_crossentropy', metrics=['accuracy'])\n",
        "        model.fit(X_train_keras, y_train_keras, epochs=epochs_count, batch_size=128, verbose=0)\n",
        "        train_acc = model.evaluate(X_train_keras, y_train_keras, verbose=0)[1]\n",
        "        test_acc = model.evaluate(X_test_keras, y_test_keras, verbose=0)[1]\n",
        "        print(f\"Activation: {activation_func}, Train Acc: {train_acc:.4f}, Test Acc: {test_acc:.4f}\")\n",
        "    # Optionally, plot for each epoch count\n",
        "    # (Not plotting here to avoid too many plots in notebook)"
      ],
      "execution_count": 17,
      "outputs": [
        {
          "output_type": "stream",
          "name": "stdout",
          "text": [
            "\n",
            "### For epochs = 10\n",
            "Activation: sigmoid, Train Acc: 0.9805, Test Acc: 0.9621\n",
            "Activation: tanh, Train Acc: 0.9890, Test Acc: 0.9685\n",
            "Activation: relu, Train Acc: 0.9877, Test Acc: 0.9673\n",
            "\n",
            "### For epochs = 30\n",
            "Activation: sigmoid, Train Acc: 0.9935, Test Acc: 0.9619\n",
            "Activation: tanh, Train Acc: 0.9936, Test Acc: 0.9657\n",
            "Activation: relu, Train Acc: 0.9953, Test Acc: 0.9726\n"
          ]
        }
      ],
      "id": "Gquuti0G0QTs"
    },
    {
      "cell_type": "markdown",
      "metadata": {
        "id": "VsqqUlBv0QTs"
      },
      "source": [
        "## 7. Activation function combinations"
      ],
      "id": "VsqqUlBv0QTs"
    },
    {
      "cell_type": "code",
      "metadata": {
        "colab": {
          "base_uri": "https://localhost:8080/"
        },
        "id": "nPkp07d40QTt",
        "outputId": "fdd532a4-83e9-4b37-af7c-c013624080b7"
      },
      "source": [
        "# 7. Activation function combinations\n",
        "combinations = {\n",
        "    \"Sigmoid-ReLU-Tanh\": ['sigmoid', 'relu', 'tanh'],\n",
        "    \"ReLU-Sigmoid-ReLU\": ['relu', 'sigmoid', 'relu'],\n",
        "    \"Tanh-ReLU-Sigmoid\": ['tanh', 'relu', 'sigmoid'],\n",
        "    \"All ReLU\": ['relu', 'relu', 'relu'],\n",
        "    \"All Sigmoid\": ['sigmoid', 'sigmoid', 'sigmoid'],\n",
        "    \"All Tanh\": ['tanh', 'tanh', 'tanh']\n",
        "}\n",
        "combo_results = []\n",
        "for name, combo_activations in combinations.items():\n",
        "    model = Sequential()\n",
        "    model.add(Dense(32, activation=combo_activations[0], input_shape=(784,)))\n",
        "    model.add(Dense(32, activation=combo_activations[1]))\n",
        "    model.add(Dense(32, activation=combo_activations[2]))\n",
        "    model.add(Dense(10, activation='softmax'))\n",
        "    model.compile(optimizer='adam', loss='categorical_crossentropy', metrics=['accuracy'])\n",
        "    model.fit(X_train_keras, y_train_keras, epochs=20, batch_size=128, verbose=0)\n",
        "    test_acc = model.evaluate(X_test_keras, y_test_keras, verbose=0)[1]\n",
        "    combo_results.append((name, test_acc))\n",
        "    print(f\"Combination: {name}, Test Accuracy: {test_acc:.4f}\")\n",
        "\n",
        "best_combo = max(combo_results, key=lambda x: x[1])\n",
        "print(f\"\\nBest activation combination: {best_combo[0]} with Test Accuracy: {best_combo[1]:.4f}\")"
      ],
      "execution_count": 18,
      "outputs": [
        {
          "output_type": "stream",
          "name": "stdout",
          "text": [
            "Combination: Sigmoid-ReLU-Tanh, Test Accuracy: 0.9609\n",
            "Combination: ReLU-Sigmoid-ReLU, Test Accuracy: 0.9619\n",
            "Combination: Tanh-ReLU-Sigmoid, Test Accuracy: 0.9614\n",
            "Combination: All ReLU, Test Accuracy: 0.9626\n",
            "Combination: All Sigmoid, Test Accuracy: 0.9580\n",
            "Combination: All Tanh, Test Accuracy: 0.9576\n",
            "\n",
            "Best activation combination: All ReLU with Test Accuracy: 0.9626\n"
          ]
        }
      ],
      "id": "nPkp07d40QTt"
    }
  ],
  "metadata": {
    "colab": {
      "provenance": [],
      "gpuType": "T4",
      "include_colab_link": true
    },
    "kernelspec": {
      "display_name": "Python 3",
      "name": "python3"
    },
    "language_info": {
      "name": "python",
      "version": ""
    },
    "accelerator": "GPU"
  },
  "nbformat": 4,
  "nbformat_minor": 5
}